{
 "cells": [
  {
   "cell_type": "code",
   "execution_count": null,
   "metadata": {},
   "outputs": [],
   "source": [
    "import config as CONFIG\n",
    "import os\n",
    "import sys\n",
    "sys.path.append(CONFIG.GLOBAL_MODEL_PATH)\n",
    "from models.mwunet import mwunet\n",
    "\n",
    "from csbdeep.io import load_training_data\n",
    "from csbdeep.models import IsotropicCARE\n",
    "from csbdeep.utils import plot_some\n",
    "\n",
    "import tensorflow as tf\n",
    "from matplotlib import pyplot as plt\n",
    "import numpy as np"
   ]
  },
  {
   "cell_type": "code",
   "execution_count": null,
   "metadata": {},
   "outputs": [],
   "source": [
    "(X,Y), (X_val,Y_val), axes = load_training_data(CONFIG.TRAIN_DATASET_PATH, validation_split=0.1, axes='SCYX', verbose=True)"
   ]
  },
  {
   "cell_type": "code",
   "execution_count": null,
   "metadata": {},
   "outputs": [],
   "source": [
    "FX = mwunet(input_shape=X.shape[1:], output_shape=Y.shape[1:],\n",
    "            conv_kernel_size=5, n_filters_per_scale=[32, 64, 128])\n",
    "FX.model.load_model(os.path.join(CONFIG.CHECKPOINT_PATH, CONFIG.FX_MODEL_PATH))"
   ]
  },
  {
   "cell_type": "code",
   "execution_count": null,
   "metadata": {},
   "outputs": [],
   "source": [
    "DX = IsotropicCARE(config=None, name='DX', basedir=CONFIG.CHECKPOINT_PATH)"
   ]
  },
  {
   "cell_type": "code",
   "execution_count": null,
   "metadata": {},
   "outputs": [],
   "source": [
    "x = X_val[0:1]\n",
    "y = Y_val[0:1]\n",
    "\n",
    "print(x.shape, y.shape)"
   ]
  },
  {
   "cell_type": "code",
   "execution_count": null,
   "metadata": {},
   "outputs": [],
   "source": [
    "y_est = FX.keras_model.predict(x)\n",
    "x_back = DX.keras_model.predict(y)\n",
    "residual = x - x_back"
   ]
  },
  {
   "cell_type": "code",
   "execution_count": null,
   "metadata": {},
   "outputs": [],
   "source": [
    "plt.figure(figsize=(16,4))\n",
    "plt.suptitle('x,  y,  y_est, x_back, residual')\n",
    "plot_some(np.squeeze([x, y, y_est, x_back, residual], axis=1))\n",
    "plt.show()"
   ]
  },
  {
   "cell_type": "code",
   "execution_count": null,
   "metadata": {},
   "outputs": [],
   "source": [
    "nbatch, height, width, channel = residual.shape\n",
    "x_i = []\n",
    "N = 1000\n",
    "for i in range(N):\n",
    "    noise = np.transpose(residual, (1, 2, 0, 3)).reshape(height*width, nbatch, channel)\n",
    "    noise = np.random.shuffle(noise).reshape(height, width, nbatch, channel)\n",
    "    noise=np.transpose(noise, (2, 0, 1, 3))\n",
    "    res_x = x_back + noise\n",
    "    x_i.append(np.squeeze(res_x, axis=0))\n",
    "x_i = np.asarray(x_i)"
   ]
  },
  {
   "cell_type": "code",
   "execution_count": null,
   "metadata": {},
   "outputs": [],
   "source": [
    "y_i = FX.predict(x_i)\n",
    "\n",
    "plt.figure(figsize=(20, 13))\n",
    "plt.suptitle('row1: x_i;  row2: y_i;  row3: y_est')\n",
    "plot_some(x_i[0:5], y_i[0:5], [y_est for _ in range(5)])\n",
    "plt.show()"
   ]
  },
  {
   "cell_type": "code",
   "execution_count": null,
   "metadata": {},
   "outputs": [],
   "source": [
    "def SSIM(y_true, y_pred):\n",
    "    return tf.reduce_mean(tf.image.ssim(y_true, y_pred, 1.0))\n",
    "\n",
    "def PSNR(y_true, y_pred):\n",
    "    return tf.reduce_mean(tf.image.psnr(y_true, y_pred, 1.0))"
   ]
  },
  {
   "cell_type": "code",
   "execution_count": null,
   "metadata": {},
   "outputs": [],
   "source": [
    "SSIM_ygt_yest = SSIM(y, y_est)\n",
    "PSNR_ygt_yest = PSNR(y, y_est)\n",
    "\n",
    "SSIM_yest_yi = 0\n",
    "PSNR_yest_yi = 0\n",
    "for i in range(N):\n",
    "    SSIM_yest_yi += SSIM(y_est, y_i[i:i+1])\n",
    "    PSNR_yest_yi += PSNR(y_est, y_i[i:i+1])\n",
    "SSIM_yest_yi /= N\n",
    "PSNR_yest_yi /= N"
   ]
  }
 ],
 "metadata": {
  "kernelspec": {
   "display_name": "tf",
   "language": "python",
   "name": "python3"
  },
  "language_info": {
   "codemirror_mode": {
    "name": "ipython",
    "version": 3
   },
   "file_extension": ".py",
   "mimetype": "text/x-python",
   "name": "python",
   "nbconvert_exporter": "python",
   "pygments_lexer": "ipython3",
   "version": "3.9.5"
  },
  "orig_nbformat": 4
 },
 "nbformat": 4,
 "nbformat_minor": 2
}
