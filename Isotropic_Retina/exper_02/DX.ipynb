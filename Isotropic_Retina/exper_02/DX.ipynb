{
 "cells": [
  {
   "cell_type": "code",
   "execution_count": null,
   "metadata": {},
   "outputs": [],
   "source": [
    "import config as CONFIG\n",
    "import sys\n",
    "sys.path.append(CONFIG.GLOBAL_MODEL_PATH)\n",
    "from models.mwunet import mwunet\n",
    "\n",
    "from csbdeep.io import load_training_data\n",
    "from csbdeep.utils import plot_history, plot_some\n",
    "from matplotlib import pyplot as plt"
   ]
  },
  {
   "attachments": {},
   "cell_type": "markdown",
   "metadata": {},
   "source": [
    "# Load Data"
   ]
  },
  {
   "cell_type": "code",
   "execution_count": null,
   "metadata": {},
   "outputs": [],
   "source": [
    "(X,Y), (X_val,Y_val), axes = load_training_data(CONFIG.TRAIN_DATASET_PATH, validation_split=0.1, axes='SCYX', verbose=True)"
   ]
  },
  {
   "attachments": {},
   "cell_type": "markdown",
   "metadata": {},
   "source": [
    "# Define Model"
   ]
  },
  {
   "cell_type": "code",
   "execution_count": null,
   "metadata": {},
   "outputs": [],
   "source": [
    "model = mwunet(input_shape=Y.shape[1:], output_shape=X.shape[1:],\n",
    "               conv_kernel_size=3, n_filters_per_scale=[8, 16, 32])\n",
    "model.model.summary()"
   ]
  },
  {
   "attachments": {},
   "cell_type": "markdown",
   "metadata": {},
   "source": [
    "# Train"
   ]
  },
  {
   "cell_type": "code",
   "execution_count": null,
   "metadata": {},
   "outputs": [],
   "source": [
    "history = model.train(X=Y, Y=X, validation_data=(Y_val, X_val),\n",
    "                      train_epochs=200, train_batch_size=32,\n",
    "                      train_learning_rate=0.001,\n",
    "                      base_dir=CONFIG.CHECKPOINT_PATH,\n",
    "                      name='DX',\n",
    "                      train_checkpoint='DX.hdf5'\n",
    "                      )"
   ]
  },
  {
   "cell_type": "code",
   "execution_count": null,
   "metadata": {},
   "outputs": [],
   "source": [
    "print(sorted(list(history.history.keys())))\n",
    "plt.figure(figsize=(24,5))\n",
    "plot_history(history, ['loss', 'val_loss'], ['mse', 'val_mse'], ['lr'])"
   ]
  },
  {
   "attachments": {},
   "cell_type": "markdown",
   "metadata": {},
   "source": [
    "# Validation"
   ]
  },
  {
   "cell_type": "code",
   "execution_count": null,
   "metadata": {},
   "outputs": [],
   "source": [
    "plt.figure(figsize=(12,7))\n",
    "predict_res = model.predict(Y_val[:5])\n",
    "plot_some(Y_val[:5], X_val[:5], predict_res, pmax=99.5)\n",
    "plt.suptitle('5 example validation patches\\n'\n",
    "             'top row: input(source), '\n",
    "             'middle row: target(ground truth), '\n",
    "             'bottom row: predicted from source.')\n",
    "plt.show()"
   ]
  }
 ],
 "metadata": {
  "kernelspec": {
   "display_name": "care",
   "language": "python",
   "name": "python3"
  },
  "language_info": {
   "codemirror_mode": {
    "name": "ipython",
    "version": 3
   },
   "file_extension": ".py",
   "mimetype": "text/x-python",
   "name": "python",
   "nbconvert_exporter": "python",
   "pygments_lexer": "ipython3",
   "version": "3.9.16"
  },
  "orig_nbformat": 4
 },
 "nbformat": 4,
 "nbformat_minor": 2
}
